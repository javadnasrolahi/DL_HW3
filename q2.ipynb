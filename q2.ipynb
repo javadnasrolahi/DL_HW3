{
  "cells": [
    {
      "cell_type": "code",
      "execution_count": null,
      "metadata": {
        "id": "iVRlsm_7ncdo"
      },
      "outputs": [],
      "source": [
        "import matplotlib.pyplot as plt\n",
        "import numpy as np\n",
        "import pandas as pd\n",
        "import seaborn as sns\n",
        "import torch\n",
        "import torch.nn as nn\n",
        "from torchvision.transforms import ToTensor, Resize, Compose, Normalize, RandomHorizontalFlip\n",
        "from torchvision.datasets import CIFAR10\n",
        "from torchvision.models import resnet50, ResNet50_Weights,resnet18, ResNet18_Weights\n",
        "from torch.utils.data import Dataset, DataLoader, random_split\n",
        "from sklearn.metrics import classification_report\n",
        "from sklearn.metrics import confusion_matrix"
      ]
    },
    {
      "cell_type": "code",
      "execution_count": null,
      "metadata": {
        "id": "rw7Cdv1qncdp"
      },
      "outputs": [],
      "source": [
        "tensorShape = [112,112]\n",
        "transforms = Compose([\n",
        "                    ToTensor(),\n",
        "                    Resize((tensorShape[0],tensorShape[1])),\n",
        "                    Normalize(mean=[0.5, 0.5, 0.5], std=[0.5, 0.5, 0.5]), \n",
        "])"
      ]
    },
    {
      "cell_type": "code",
      "execution_count": null,
      "metadata": {
        "colab": {
          "base_uri": "https://localhost:8080/",
          "height": 101,
          "referenced_widgets": [
            "14beb7fe5c41430c97332c998fefbbe4",
            "b40d069faf1f44b1b3e7c89fa35a41f5",
            "03375f7437a34098a49ef1c34086c396",
            "2da3f39098f1431bb54fedfb7079d6a8",
            "e3e781bef80c4de4a37ab4fe13af9686",
            "4adec39230004a2997decb1dd6cc9808",
            "4857ed8d99a646bab6f8d4887675980a",
            "66c156ad9674406cbbc44122af5cfe82",
            "4b103adce63e4d048fd0d7c2ec13030d",
            "4cca906b1ff5410492dbd7f96a0d0173",
            "843dd0b7c0b14054955ee5201e308dde"
          ]
        },
        "id": "1KorSW2Rncdp",
        "outputId": "45f4aa43-0ae4-4eb2-c6b7-68c1f9bf7215"
      },
      "outputs": [
        {
          "output_type": "stream",
          "name": "stdout",
          "text": [
            "Downloading https://www.cs.toronto.edu/~kriz/cifar-10-python.tar.gz to CIFAR-10/cifar-10-python.tar.gz\n"
          ]
        },
        {
          "output_type": "display_data",
          "data": {
            "text/plain": [
              "  0%|          | 0/170498071 [00:00<?, ?it/s]"
            ],
            "application/vnd.jupyter.widget-view+json": {
              "version_major": 2,
              "version_minor": 0,
              "model_id": "14beb7fe5c41430c97332c998fefbbe4"
            }
          },
          "metadata": {}
        },
        {
          "output_type": "stream",
          "name": "stdout",
          "text": [
            "Extracting CIFAR-10/cifar-10-python.tar.gz to CIFAR-10\n",
            "Files already downloaded and verified\n"
          ]
        }
      ],
      "source": [
        "training_data_cifar10 = CIFAR10(\n",
        "    root=\"CIFAR-10\", \n",
        "    train=True, \n",
        "    download=True, \n",
        "    transform=transforms\n",
        ")\n",
        "\n",
        "test_data_cifar10 = CIFAR10(\n",
        "    root=\"CIFAR-10\",\n",
        "    train=False,\n",
        "    download=True,\n",
        "    transform=transforms\n",
        ")"
      ]
    },
    {
      "cell_type": "code",
      "execution_count": null,
      "metadata": {
        "id": "tomQTWFQncdp"
      },
      "outputs": [],
      "source": [
        "train_size = int(0.8 * len(training_data_cifar10))\n",
        "val_size = len(training_data_cifar10) - train_size\n",
        "train_dataset, val_dataset = random_split(training_data_cifar10, [train_size, val_size])\n"
      ]
    },
    {
      "cell_type": "markdown",
      "metadata": {
        "id": "x-s5chF5ncdp"
      },
      "source": [
        "# A: linear tuning"
      ]
    },
    {
      "cell_type": "code",
      "execution_count": null,
      "metadata": {
        "colab": {
          "base_uri": "https://localhost:8080/"
        },
        "id": "ZxvEFKGDncdq",
        "outputId": "7159d5c2-f207-438a-a3da-85b9e26253fe"
      },
      "outputs": [
        {
          "output_type": "stream",
          "name": "stdout",
          "text": [
            "Using cuda device\n"
          ]
        }
      ],
      "source": [
        "device = \"cuda\" if torch.cuda.is_available() else \"cpu\"\n",
        "print(f\"Using {device} device\")"
      ]
    },
    {
      "cell_type": "code",
      "execution_count": null,
      "metadata": {
        "colab": {
          "base_uri": "https://localhost:8080/",
          "height": 86,
          "referenced_widgets": [
            "e38cf09cdb7d4395a1eb2bbec89de3bb",
            "6c5883369f6a42758a3362df0fd95045",
            "ac29c4ec3f3b436bbc857b69f71fb26d",
            "e9848bfc8ceb4f9382cde288886b88c6",
            "8710a1d0eeca4a7f897306c21492cd1c",
            "8b98c8db90c240d383ab70091a5f6c7a",
            "8783e3744f0b427e9dbfbd458b33eaad",
            "76f54e98b8b843c18001b96dbfc71e09",
            "08a56217438b4da9bdcb59f795e7f917",
            "eac36c7cdb5248e9b7a8449ae04618e9",
            "21e88b7566734e3aad9f6517547a8185"
          ]
        },
        "id": "pRfwJ7LMncdq",
        "outputId": "49925171-6010-471f-e563-3160ad26696e"
      },
      "outputs": [
        {
          "output_type": "stream",
          "name": "stderr",
          "text": [
            "Downloading: \"https://download.pytorch.org/models/resnet50-11ad3fa6.pth\" to /root/.cache/torch/hub/checkpoints/resnet50-11ad3fa6.pth\n"
          ]
        },
        {
          "output_type": "display_data",
          "data": {
            "text/plain": [
              "  0%|          | 0.00/97.8M [00:00<?, ?B/s]"
            ],
            "application/vnd.jupyter.widget-view+json": {
              "version_major": 2,
              "version_minor": 0,
              "model_id": "e38cf09cdb7d4395a1eb2bbec89de3bb"
            }
          },
          "metadata": {}
        }
      ],
      "source": [
        "weights = ResNet50_Weights.IMAGENET1K_V2\n",
        "\n",
        "model_resnet50 = resnet50(weights=weights)"
      ]
    },
    {
      "cell_type": "code",
      "execution_count": null,
      "metadata": {
        "id": "_lyOFLZBncdq"
      },
      "outputs": [],
      "source": [
        "model_resnet50.fc = nn.Linear(2048, 10)\n",
        "model_resnet50 = model_resnet50.to(device)"
      ]
    },
    {
      "cell_type": "code",
      "execution_count": null,
      "metadata": {
        "id": "PBK6A2fPncdq"
      },
      "outputs": [],
      "source": [
        "batch_size = 128\n",
        "train_loader = DataLoader(train_dataset, batch_size=batch_size, shuffle=True)\n",
        "val_loader = DataLoader(val_dataset, batch_size=batch_size, shuffle=True)\n",
        "test_loader = DataLoader(test_data_cifar10, batch_size=batch_size, shuffle=True)\n"
      ]
    },
    {
      "cell_type": "code",
      "execution_count": null,
      "metadata": {
        "id": "eIXZ2A22ncdq"
      },
      "outputs": [],
      "source": [
        "crossEntropyLoss = nn.CrossEntropyLoss()\n",
        "optimizer = torch.optim.Adam(model_resnet50.parameters(), lr=0.0001)\n",
        "\n",
        "model_resnet50.requires_grad_(False)\n",
        "model_resnet50.fc.requires_grad_(True)\n",
        "\n",
        "\n",
        "def train(model, train_loader, optimizer, loss_fn):\n",
        "    train_losses = []\n",
        "    accuracy = []   \n",
        "    for batch, (X, y) in enumerate(train_loader):\n",
        "        X = X.to(device)\n",
        "        y = y.to(device)\n",
        "        optimizer.zero_grad()\n",
        "        y_pred = model(X)\n",
        "        loss = loss_fn(y_pred, y)\n",
        "        loss.backward()\n",
        "        optimizer.step()\n",
        "        train_losses.append(loss.item())\n",
        "        accuracy.append((y_pred.argmax(1) == y).type(torch.float).sum().item())\n",
        "        if batch % 100 == 0:\n",
        "            print(f\"Batch {batch} loss: {loss.item()}\")\n",
        "    accuracy = np.mean(accuracy)\n",
        "    train_losses = np.mean(train_losses)\n",
        "    return train_losses, accuracy\n"
      ]
    },
    {
      "cell_type": "code",
      "execution_count": null,
      "metadata": {
        "id": "KAPZMzBhncdq"
      },
      "outputs": [],
      "source": [
        "def test(model, test_loader, loss_fn):\n",
        "    test_loss = 0\n",
        "    accuracy = 0\n",
        "    with torch.no_grad():\n",
        "        for X, y in test_loader:\n",
        "            X = X.to(device)\n",
        "            y = y.to(device)\n",
        "            y_pred = model(X)\n",
        "            loss = loss_fn(y_pred, y)\n",
        "            test_loss += loss.item()\n",
        "            accuracy += (y_pred.argmax(1) == y).type(torch.float).sum().item()\n",
        "    test_loss /= len(test_loader.dataset)\n",
        "    accuracy /= len(test_loader.dataset)\n",
        "    print(\"-------------------\")\n",
        "    print(f\"Accuracy: {(100*accuracy):>0.1f}%, Avg loss: {test_loss:>8f}\")\n",
        "    print(\"-------------------\\n\")\n",
        "    return test_loss, accuracy\n"
      ]
    },
    {
      "cell_type": "code",
      "execution_count": null,
      "metadata": {
        "colab": {
          "base_uri": "https://localhost:8080/"
        },
        "id": "MqtIX7yCncdq",
        "outputId": "d8906758-2953-47a2-fb59-d274858014be"
      },
      "outputs": [
        {
          "output_type": "stream",
          "name": "stdout",
          "text": [
            "-------------------------------\n",
            "----------- Epoch 0 -----------\n",
            "-------------------------------\n",
            "Batch 0 loss: 2.323164939880371\n",
            "Batch 100 loss: 1.646859884262085\n",
            "Batch 200 loss: 1.2742679119110107\n",
            "Batch 300 loss: 1.0329499244689941\n",
            "-------------------\n",
            "Accuracy: 77.6%, Avg loss: 0.007947\n",
            "-------------------\n",
            "\n",
            "-------------------------------\n",
            "----------- Epoch 1 -----------\n",
            "-------------------------------\n",
            "Batch 0 loss: 1.0819594860076904\n",
            "Batch 100 loss: 0.8342183828353882\n",
            "Batch 200 loss: 0.7395062446594238\n",
            "Batch 300 loss: 0.8862619400024414\n",
            "-------------------\n",
            "Accuracy: 80.1%, Avg loss: 0.005889\n",
            "-------------------\n",
            "\n",
            "-------------------------------\n",
            "----------- Epoch 2 -----------\n",
            "-------------------------------\n",
            "Batch 0 loss: 0.78764808177948\n",
            "Batch 100 loss: 0.8798073530197144\n",
            "Batch 200 loss: 0.6554306149482727\n",
            "Batch 300 loss: 0.6741552352905273\n",
            "-------------------\n",
            "Accuracy: 81.2%, Avg loss: 0.005098\n",
            "-------------------\n",
            "\n",
            "-------------------------------\n",
            "----------- Epoch 3 -----------\n",
            "-------------------------------\n",
            "Batch 0 loss: 0.6872587203979492\n",
            "Batch 100 loss: 0.5954012274742126\n",
            "Batch 200 loss: 0.5833849906921387\n",
            "Batch 300 loss: 0.6383570432662964\n",
            "-------------------\n",
            "Accuracy: 82.2%, Avg loss: 0.004640\n",
            "-------------------\n",
            "\n",
            "-------------------------------\n",
            "----------- Epoch 4 -----------\n",
            "-------------------------------\n",
            "Batch 0 loss: 0.539621889591217\n",
            "Batch 100 loss: 0.5271316170692444\n",
            "Batch 200 loss: 0.5395001769065857\n",
            "Batch 300 loss: 0.5050575733184814\n",
            "-------------------\n",
            "Accuracy: 82.7%, Avg loss: 0.004442\n",
            "-------------------\n",
            "\n",
            "-------------------------------\n",
            "----------- Epoch 5 -----------\n",
            "-------------------------------\n",
            "Batch 0 loss: 0.636229395866394\n",
            "Batch 100 loss: 0.4378138780593872\n",
            "Batch 200 loss: 0.49415239691734314\n",
            "Batch 300 loss: 0.48005759716033936\n",
            "-------------------\n",
            "Accuracy: 83.0%, Avg loss: 0.004232\n",
            "-------------------\n",
            "\n",
            "-------------------------------\n",
            "----------- Epoch 6 -----------\n",
            "-------------------------------\n",
            "Batch 0 loss: 0.6378716826438904\n",
            "Batch 100 loss: 0.4859235882759094\n",
            "Batch 200 loss: 0.5496041178703308\n",
            "Batch 300 loss: 0.5325912833213806\n",
            "-------------------\n",
            "Accuracy: 83.5%, Avg loss: 0.004069\n",
            "-------------------\n",
            "\n",
            "-------------------------------\n",
            "----------- Epoch 7 -----------\n",
            "-------------------------------\n",
            "Batch 0 loss: 0.4738673269748688\n",
            "Batch 100 loss: 0.4065588116645813\n",
            "Batch 200 loss: 0.4193653464317322\n",
            "Batch 300 loss: 0.393546462059021\n",
            "-------------------\n",
            "Accuracy: 84.0%, Avg loss: 0.003951\n",
            "-------------------\n",
            "\n",
            "-------------------------------\n",
            "----------- Epoch 8 -----------\n",
            "-------------------------------\n",
            "Batch 0 loss: 0.45051896572113037\n",
            "Batch 100 loss: 0.4565466046333313\n",
            "Batch 200 loss: 0.41076424717903137\n",
            "Batch 300 loss: 0.4202224910259247\n",
            "-------------------\n",
            "Accuracy: 84.0%, Avg loss: 0.003902\n",
            "-------------------\n",
            "\n",
            "-------------------------------\n",
            "----------- Epoch 9 -----------\n",
            "-------------------------------\n",
            "Batch 0 loss: 0.42425134778022766\n",
            "Batch 100 loss: 0.4663125276565552\n",
            "Batch 200 loss: 0.48765045404434204\n",
            "Batch 300 loss: 0.38383737206459045\n",
            "-------------------\n",
            "Accuracy: 84.2%, Avg loss: 0.003810\n",
            "-------------------\n",
            "\n"
          ]
        }
      ],
      "source": [
        "from torch.utils.tensorboard import SummaryWriter\n",
        "writer = SummaryWriter(log_dir='ResNet50_LinearTuning_Board')\n",
        "\n",
        "epochs = 10\n",
        "for t in range(epochs):\n",
        "    print(f\"-------------------------------\")\n",
        "    print(f\"----------- Epoch {t} -----------\")\n",
        "    print(f\"-------------------------------\")\n",
        "    train_loss, train_accuracy = train(model_resnet50, train_loader, optimizer, crossEntropyLoss)\n",
        "    test_loss, test_accuracy = test(model_resnet50, test_loader, crossEntropyLoss)\n",
        "    writer.add_scalar('Loss/train', np.mean(train_loss), t)\n",
        "    writer.add_scalar('Loss/test', np.mean(test_loss), t)\n",
        "    writer.add_scalar('Accuracy/train', np.mean(train_accuracy), t)\n",
        "    writer.add_scalar('Accuracy/test', np.mean(test_accuracy), t)\n"
      ]
    },
    {
      "cell_type": "code",
      "execution_count": null,
      "metadata": {
        "colab": {
          "base_uri": "https://localhost:8080/"
        },
        "id": "P4TLip6bncdr",
        "outputId": "c1816738-a0ab-45ee-85dc-bd1ed49ee674"
      },
      "outputs": [
        {
          "output_type": "stream",
          "name": "stdout",
          "text": [
            "-------------------\n",
            "Accuracy: 84.2%, Avg loss: 0.003808\n",
            "-------------------\n",
            "\n"
          ]
        }
      ],
      "source": [
        "test_loss, test_accuracy = test(model_resnet50, test_loader, crossEntropyLoss)"
      ]
    },
    {
      "cell_type": "code",
      "execution_count": null,
      "metadata": {
        "colab": {
          "base_uri": "https://localhost:8080/"
        },
        "id": "sZcMMqduncdr",
        "outputId": "fbe24fc9-b383-468e-af04-9716536ad486"
      },
      "outputs": [
        {
          "output_type": "stream",
          "name": "stdout",
          "text": [
            "              precision    recall  f1-score   support\n",
            "\n",
            "    airplane       0.87      0.84      0.85      1000\n",
            "  automobile       0.90      0.88      0.89      1000\n",
            "        bird       0.84      0.82      0.83      1000\n",
            "         cat       0.74      0.74      0.74      1000\n",
            "        deer       0.79      0.78      0.79      1000\n",
            "         dog       0.82      0.83      0.83      1000\n",
            "        frog       0.84      0.89      0.86      1000\n",
            "       horse       0.87      0.83      0.85      1000\n",
            "        ship       0.86      0.90      0.88      1000\n",
            "       truck       0.87      0.88      0.88      1000\n",
            "\n",
            "    accuracy                           0.84     10000\n",
            "   macro avg       0.84      0.84      0.84     10000\n",
            "weighted avg       0.84      0.84      0.84     10000\n",
            "\n"
          ]
        }
      ],
      "source": [
        "y_pred = []\n",
        "y_true = []\n",
        "with torch.no_grad():\n",
        "    for X, y in test_loader:\n",
        "        X = X.to(device)\n",
        "        y = y.to(device)\n",
        "        y_pred.extend(model_resnet50(X).argmax(1).cpu().numpy())\n",
        "        y_true.extend(y.cpu().numpy())\n",
        "\n",
        "print(classification_report(y_true=y_true, y_pred=y_pred, target_names=training_data_cifar10.classes))\n"
      ]
    },
    {
      "cell_type": "code",
      "execution_count": null,
      "metadata": {
        "colab": {
          "base_uri": "https://localhost:8080/",
          "height": 621
        },
        "id": "h47oE-r0ncdr",
        "outputId": "b7b5542a-4b52-4650-86c8-ddc538846fd5"
      },
      "outputs": [
        {
          "output_type": "display_data",
          "data": {
            "text/plain": [
              "<Figure size 720x720 with 2 Axes>"
            ],
            "image/png": "[encoded data removed]"
          },
          "metadata": {
            "needs_background": "light"
          }
        }
      ],
      "source": [
        "cm = confusion_matrix(y_true=y_true, y_pred=y_pred)\n",
        "plt.figure(figsize=(10, 10))\n",
        "sns.heatmap(cm, annot=True, fmt=\"d\")\n",
        "plt.title(\"Confusion matrix\")\n",
        "plt.ylabel('Actual label')\n",
        "plt.xlabel('Predicted label')\n",
        "plt.show()"
      ]
    },
    {
      "cell_type": "code",
      "execution_count": null,
      "metadata": {
        "id": "AZrsLIp4ncdr"
      },
      "outputs": [],
      "source": [
        "torch.save(model_resnet50.state_dict(), \"ResNet50_LinearTuning.pt\")"
      ]
    },
    {
      "cell_type": "markdown",
      "metadata": {
        "id": "NUdmaH3nncdr"
      },
      "source": [
        "# B"
      ]
    },
    {
      "cell_type": "code",
      "execution_count": null,
      "metadata": {
        "id": "C_cTfLqWncdr"
      },
      "outputs": [],
      "source": [
        "model_resnet18 = resnet18(weights=None)\n",
        "\n",
        "model_resnet18.fc = nn.Linear(512, 10)\n",
        "model_resnet18 = model_resnet18.to(device)   "
      ]
    },
    {
      "cell_type": "code",
      "execution_count": null,
      "metadata": {
        "id": "iMbxyFlsncdr"
      },
      "outputs": [],
      "source": [
        "import torch.nn.functional as F\n",
        "\n",
        "class DistillationLoss(nn.Module):\n",
        "    def __init__(self, T, alpha):\n",
        "        super(DistillationLoss, self).__init__()\n",
        "        self.T = T\n",
        "        self.alpha = alpha\n",
        "\n",
        "    def forward(self, y, labels, teacher_scores):\n",
        "        return self.alpha * nn.KLDivLoss()(F.log_softmax(y / self.T, dim=1),\n",
        "                                           F.softmax(teacher_scores / self.T, dim=1)) + (1. - self.alpha) * nn.CrossEntropyLoss()(y, labels)\n",
        "\n",
        "distillationLoss = DistillationLoss(T=20, alpha=0.5)\n",
        "\n",
        "optimizer = torch.optim.Adam(model_resnet18.parameters(), lr=0.001)\n",
        "\n",
        "def train_distillation(model, teacher_model, train_loader, optimizer, loss_fn):\n",
        "    train_losses = []\n",
        "    accuracy = []\n",
        "    for batch, (X, y) in enumerate(train_loader):\n",
        "        X = X.to(device)\n",
        "        y = y.to(device)\n",
        "        student_scores = model(X)\n",
        "        teacher_scores = teacher_model(X)\n",
        "        train_loss = loss_fn(student_scores, y, teacher_scores)\n",
        "        train_losses.append(train_loss.item())\n",
        "        accuracy.append((student_scores.argmax(1) == y).type(torch.float).sum().item())\n",
        "        \n",
        "        optimizer.zero_grad()\n",
        "        train_loss.backward()\n",
        "        optimizer.step()\n",
        "\n",
        "        if batch % 100 == 0:\n",
        "            print(f\"Batch {batch} loss: {train_loss.item()}\")\n",
        "    accuracy = np.mean(accuracy)\n",
        "    train_losses = np.mean(train_losses)\n",
        "    return train_losses, accuracy\n"
      ]
    },
    {
      "cell_type": "code",
      "execution_count": null,
      "metadata": {
        "colab": {
          "base_uri": "https://localhost:8080/"
        },
        "id": "ka4OZ_Ckncdr",
        "outputId": "dfe8803a-1fbe-474f-ee2e-a93fc6bd7d77"
      },
      "outputs": [
        {
          "output_type": "stream",
          "name": "stdout",
          "text": [
            "-------------------------------\n",
            "----------- Epoch 0 -----------\n",
            "-------------------------------\n"
          ]
        },
        {
          "output_type": "stream",
          "name": "stderr",
          "text": [
            "/usr/local/lib/python3.8/dist-packages/torch/nn/functional.py:2916: UserWarning: reduction: 'mean' divides the total loss by both the batch size and the support size.'batchmean' divides only by the batch size, and aligns with the KL div math definition.'mean' will be changed to behave the same as 'batchmean' in the next major release.\n",
            "  warnings.warn(\n"
          ]
        },
        {
          "output_type": "stream",
          "name": "stdout",
          "text": [
            "Batch 0 loss: 1.2211740016937256\n",
            "Batch 100 loss: 0.6921043992042542\n",
            "Batch 200 loss: 0.6820911169052124\n",
            "Batch 300 loss: 0.6181894540786743\n",
            "-------------------\n",
            "Accuracy: 59.3%, Avg loss: 0.008758\n",
            "-------------------\n",
            "\n",
            "-------------------------------\n",
            "----------- Epoch 1 -----------\n",
            "-------------------------------\n",
            "Batch 0 loss: 0.48649176955223083\n",
            "Batch 100 loss: 0.479624480009079\n",
            "Batch 200 loss: 0.4931075870990753\n",
            "Batch 300 loss: 0.4639156460762024\n",
            "-------------------\n",
            "Accuracy: 66.1%, Avg loss: 0.007495\n",
            "-------------------\n",
            "\n",
            "-------------------------------\n",
            "----------- Epoch 2 -----------\n",
            "-------------------------------\n",
            "Batch 0 loss: 0.3167027533054352\n",
            "Batch 100 loss: 0.32744458317756653\n",
            "Batch 200 loss: 0.36957573890686035\n",
            "Batch 300 loss: 0.3079836368560791\n",
            "-------------------\n",
            "Accuracy: 68.4%, Avg loss: 0.007208\n",
            "-------------------\n",
            "\n",
            "-------------------------------\n",
            "----------- Epoch 3 -----------\n",
            "-------------------------------\n",
            "Batch 0 loss: 0.2429109811782837\n",
            "Batch 100 loss: 0.1414797157049179\n",
            "Batch 200 loss: 0.18817877769470215\n",
            "Batch 300 loss: 0.1902771145105362\n",
            "-------------------\n",
            "Accuracy: 67.2%, Avg loss: 0.007914\n",
            "-------------------\n",
            "\n",
            "-------------------------------\n",
            "----------- Epoch 4 -----------\n",
            "-------------------------------\n",
            "Batch 0 loss: 0.13255269825458527\n",
            "Batch 100 loss: 0.09447165578603745\n",
            "Batch 200 loss: 0.11491120606660843\n",
            "Batch 300 loss: 0.07731053233146667\n",
            "-------------------\n",
            "Accuracy: 67.5%, Avg loss: 0.008678\n",
            "-------------------\n",
            "\n",
            "-------------------------------\n",
            "----------- Epoch 5 -----------\n",
            "-------------------------------\n",
            "Batch 0 loss: 0.0809987410902977\n",
            "Batch 100 loss: 0.025860989466309547\n",
            "Batch 200 loss: 0.04674755781888962\n",
            "Batch 300 loss: 0.04176494851708412\n",
            "-------------------\n",
            "Accuracy: 68.0%, Avg loss: 0.009451\n",
            "-------------------\n",
            "\n",
            "-------------------------------\n",
            "----------- Epoch 6 -----------\n",
            "-------------------------------\n",
            "Batch 0 loss: 0.03551281616091728\n",
            "Batch 100 loss: 0.0300735030323267\n",
            "Batch 200 loss: 0.029405631124973297\n",
            "Batch 300 loss: 0.026088576763868332\n",
            "-------------------\n",
            "Accuracy: 68.9%, Avg loss: 0.009826\n",
            "-------------------\n",
            "\n",
            "-------------------------------\n",
            "----------- Epoch 7 -----------\n",
            "-------------------------------\n",
            "Batch 0 loss: 0.016252823173999786\n",
            "Batch 100 loss: 0.027323506772518158\n",
            "Batch 200 loss: 0.014947724528610706\n",
            "Batch 300 loss: 0.03409213945269585\n",
            "-------------------\n",
            "Accuracy: 66.4%, Avg loss: 0.011245\n",
            "-------------------\n",
            "\n",
            "-------------------------------\n",
            "----------- Epoch 8 -----------\n",
            "-------------------------------\n",
            "Batch 0 loss: 0.041229039430618286\n",
            "Batch 100 loss: 0.017674295231699944\n",
            "Batch 200 loss: 0.02640383318066597\n",
            "Batch 300 loss: 0.07058162987232208\n",
            "-------------------\n",
            "Accuracy: 67.6%, Avg loss: 0.010667\n",
            "-------------------\n",
            "\n",
            "-------------------------------\n",
            "----------- Epoch 9 -----------\n",
            "-------------------------------\n",
            "Batch 0 loss: 0.03238523006439209\n",
            "Batch 100 loss: 0.021793151274323463\n",
            "Batch 200 loss: 0.032345958054065704\n",
            "Batch 300 loss: 0.045592159032821655\n",
            "-------------------\n",
            "Accuracy: 67.7%, Avg loss: 0.011085\n",
            "-------------------\n",
            "\n"
          ]
        }
      ],
      "source": [
        "from torch.utils.tensorboard import SummaryWriter\n",
        "writer = SummaryWriter(log_dir='ResNet18_Distillation_Board')\n",
        "optimizer = torch.optim.Adam(model_resnet18.parameters(), lr=0.0001)\n",
        "epochs = 10\n",
        "for t in range(epochs):\n",
        "    print(f\"-------------------------------\")\n",
        "    print(f\"----------- Epoch {t} -----------\")\n",
        "    print(f\"-------------------------------\")\n",
        "    train_loss, train_accuracy = train_distillation(model_resnet18, model_resnet50, train_loader, optimizer, distillationLoss)\n",
        "    test_loss, test_accuracy = test(model_resnet18, test_loader, crossEntropyLoss)\n",
        "    writer.add_scalar('Loss/train', np.mean(train_loss), t)\n",
        "    writer.add_scalar('Loss/test', np.mean(test_loss), t)\n",
        "    writer.add_scalar('Accuracy/train', np.mean(train_accuracy), t)\n",
        "    writer.add_scalar('Accuracy/test', np.mean(test_accuracy), t)"
      ]
    },
    {
      "cell_type": "code",
      "execution_count": null,
      "metadata": {
        "colab": {
          "base_uri": "https://localhost:8080/"
        },
        "id": "c3a1f24tncdr",
        "outputId": "a76ac62f-5de1-4804-8e38-fb9880d405b4"
      },
      "outputs": [
        {
          "output_type": "stream",
          "name": "stdout",
          "text": [
            "-------------------\n",
            "Accuracy: 68.1%, Avg loss: 0.011092\n",
            "-------------------\n",
            "\n"
          ]
        }
      ],
      "source": [
        "test_loss, test_accuracy = test(model_resnet18, test_loader, crossEntropyLoss)"
      ]
    },
    {
      "cell_type": "code",
      "execution_count": null,
      "metadata": {
        "colab": {
          "base_uri": "https://localhost:8080/"
        },
        "id": "KmS5qXB0ncdr",
        "outputId": "26762ede-cffb-435e-a7ba-6ae9db897026"
      },
      "outputs": [
        {
          "output_type": "stream",
          "name": "stdout",
          "text": [
            "              precision    recall  f1-score   support\n",
            "\n",
            "    airplane       0.68      0.74      0.70      1000\n",
            "  automobile       0.82      0.80      0.81      1000\n",
            "        bird       0.62      0.51      0.56      1000\n",
            "         cat       0.50      0.44      0.47      1000\n",
            "        deer       0.63      0.64      0.63      1000\n",
            "         dog       0.56      0.61      0.59      1000\n",
            "        frog       0.74      0.74      0.74      1000\n",
            "       horse       0.68      0.73      0.71      1000\n",
            "        ship       0.76      0.84      0.80      1000\n",
            "       truck       0.79      0.74      0.76      1000\n",
            "\n",
            "    accuracy                           0.68     10000\n",
            "   macro avg       0.68      0.68      0.68     10000\n",
            "weighted avg       0.68      0.68      0.68     10000\n",
            "\n"
          ]
        }
      ],
      "source": [
        "y_pred = []\n",
        "y_true = []\n",
        "with torch.no_grad():\n",
        "    for X, y in test_loader:\n",
        "        X = X.to(device)\n",
        "        y = y.to(device)\n",
        "        # to cpu\n",
        "        y_pred.extend(model_resnet18(X).argmax(1).cpu().numpy())\n",
        "        y_true.extend(y.cpu().numpy())\n",
        "\n",
        "print(classification_report(y_true=y_true, y_pred=y_pred, target_names=training_data_cifar10.classes))\n"
      ]
    },
    {
      "cell_type": "code",
      "execution_count": null,
      "metadata": {
        "colab": {
          "base_uri": "https://localhost:8080/",
          "height": 621
        },
        "id": "Oy108O9Bncdr",
        "outputId": "b48f2ef8-5945-45c4-b633-4b9ecb9d6649"
      },
      "outputs": [
        {
          "output_type": "display_data",
          "data": {
            "text/plain": [
              "<Figure size 720x720 with 2 Axes>"
            ],
            "image/png": "[encoded data removed]"
          },
          "metadata": {
            "needs_background": "light"
          }
        }
      ],
      "source": [
        "cm = confusion_matrix(y_true=y_true, y_pred=y_pred)\n",
        "plt.figure(figsize=(10, 10))\n",
        "sns.heatmap(cm, annot=True, fmt=\"d\")\n",
        "plt.title(\"Confusion matrix\")\n",
        "plt.ylabel('Actual label')\n",
        "plt.xlabel('Predicted label')\n",
        "plt.show()\n"
      ]
    },
    {
      "cell_type": "code",
      "execution_count": null,
      "metadata": {
        "id": "OOqmEC61ncdr"
      },
      "outputs": [],
      "source": [
        "torch.save(model_resnet18.state_dict(), \"ResNet18_Distillation.pt\")"
      ]
    },
    {
      "cell_type": "markdown",
      "metadata": {
        "id": "9rDB5CMgncdr"
      },
      "source": [
        "\n",
        "# C"
      ]
    },
    {
      "cell_type": "code",
      "execution_count": null,
      "metadata": {
        "id": "1cuGm5Xuncdr"
      },
      "outputs": [],
      "source": [
        "# weights = ResNet18_Weights.IMAGENET1K_V1\n",
        "model_resnet18 = resnet18(weights=None)\n",
        "\n",
        "model_resnet18.fc = nn.Linear(512, 10)\n",
        "model_resnet18 = model_resnet18.to(device)\n"
      ]
    },
    {
      "cell_type": "code",
      "execution_count": null,
      "metadata": {
        "colab": {
          "base_uri": "https://localhost:8080/"
        },
        "id": "CHaSbqLGncdr",
        "outputId": "b00fe1cb-e1ab-4b79-9149-0422a01da283"
      },
      "outputs": [
        {
          "output_type": "stream",
          "name": "stdout",
          "text": [
            "-------------------------------\n",
            "----------- Epoch 0 -----------\n",
            "-------------------------------\n",
            "Batch 0 loss: 2.3241078853607178\n",
            "Batch 100 loss: 1.3824387788772583\n",
            "Batch 200 loss: 1.182045340538025\n",
            "Batch 300 loss: 1.3415480852127075\n",
            "-------------------\n",
            "Accuracy: 58.1%, Avg loss: 0.009022\n",
            "-------------------\n",
            "\n",
            "-------------------------------\n",
            "----------- Epoch 1 -----------\n",
            "-------------------------------\n",
            "Batch 0 loss: 1.0283676385879517\n",
            "Batch 100 loss: 1.0429909229278564\n",
            "Batch 200 loss: 0.8367665410041809\n",
            "Batch 300 loss: 0.9474138617515564\n",
            "-------------------\n",
            "Accuracy: 64.9%, Avg loss: 0.007716\n",
            "-------------------\n",
            "\n",
            "-------------------------------\n",
            "----------- Epoch 2 -----------\n",
            "-------------------------------\n",
            "Batch 0 loss: 0.5792322158813477\n",
            "Batch 100 loss: 0.7316980361938477\n",
            "Batch 200 loss: 0.9013291001319885\n",
            "Batch 300 loss: 0.6981837749481201\n",
            "-------------------\n",
            "Accuracy: 66.5%, Avg loss: 0.007615\n",
            "-------------------\n",
            "\n",
            "-------------------------------\n",
            "----------- Epoch 3 -----------\n",
            "-------------------------------\n",
            "Batch 0 loss: 0.4889205992221832\n",
            "Batch 100 loss: 0.2987150549888611\n",
            "Batch 200 loss: 0.5716257691383362\n",
            "Batch 300 loss: 0.48178184032440186\n",
            "-------------------\n",
            "Accuracy: 66.2%, Avg loss: 0.008226\n",
            "-------------------\n",
            "\n",
            "-------------------------------\n",
            "----------- Epoch 4 -----------\n",
            "-------------------------------\n",
            "Batch 0 loss: 0.2725401818752289\n",
            "Batch 100 loss: 0.20681613683700562\n",
            "Batch 200 loss: 0.20430037379264832\n",
            "Batch 300 loss: 0.22187691926956177\n",
            "-------------------\n",
            "Accuracy: 66.9%, Avg loss: 0.009003\n",
            "-------------------\n",
            "\n",
            "-------------------------------\n",
            "----------- Epoch 5 -----------\n",
            "-------------------------------\n",
            "Batch 0 loss: 0.13664333522319794\n",
            "Batch 100 loss: 0.05999235808849335\n",
            "Batch 200 loss: 0.07510224729776382\n",
            "Batch 300 loss: 0.0861050933599472\n",
            "-------------------\n",
            "Accuracy: 67.8%, Avg loss: 0.009514\n",
            "-------------------\n",
            "\n",
            "-------------------------------\n",
            "----------- Epoch 6 -----------\n",
            "-------------------------------\n",
            "Batch 0 loss: 0.06723387539386749\n",
            "Batch 100 loss: 0.038060322403907776\n",
            "Batch 200 loss: 0.035688456147909164\n",
            "Batch 300 loss: 0.021156733855605125\n",
            "-------------------\n",
            "Accuracy: 67.7%, Avg loss: 0.010440\n",
            "-------------------\n",
            "\n",
            "-------------------------------\n",
            "----------- Epoch 7 -----------\n",
            "-------------------------------\n",
            "Batch 0 loss: 0.08132151514291763\n",
            "Batch 100 loss: 0.023744825273752213\n",
            "Batch 200 loss: 0.038111988455057144\n",
            "Batch 300 loss: 0.07246685028076172\n",
            "-------------------\n",
            "Accuracy: 66.5%, Avg loss: 0.011281\n",
            "-------------------\n",
            "\n",
            "-------------------------------\n",
            "----------- Epoch 8 -----------\n",
            "-------------------------------\n",
            "Batch 0 loss: 0.05983603000640869\n",
            "Batch 100 loss: 0.040735457092523575\n",
            "Batch 200 loss: 0.11050620675086975\n",
            "Batch 300 loss: 0.09921624511480331\n",
            "-------------------\n",
            "Accuracy: 66.3%, Avg loss: 0.011149\n",
            "-------------------\n",
            "\n",
            "-------------------------------\n",
            "----------- Epoch 9 -----------\n",
            "-------------------------------\n",
            "Batch 0 loss: 0.044772930443286896\n",
            "Batch 100 loss: 0.04138967767357826\n",
            "Batch 200 loss: 0.03742576390504837\n",
            "Batch 300 loss: 0.09362974017858505\n",
            "-------------------\n",
            "Accuracy: 66.9%, Avg loss: 0.011605\n",
            "-------------------\n",
            "\n"
          ]
        }
      ],
      "source": [
        "from torch.utils.tensorboard import SummaryWriter\n",
        "writer = SummaryWriter(log_dir='ResNet18_Board')\n",
        "optimizer = torch.optim.Adam(model_resnet18.parameters(), lr=0.0001)\n",
        "epochs = 10\n",
        "for t in range(epochs):\n",
        "    print(f\"-------------------------------\")\n",
        "    print(f\"----------- Epoch {t} -----------\")\n",
        "    print(f\"-------------------------------\")\n",
        "    train_loss, train_accuracy = train(model_resnet18, train_loader, optimizer, crossEntropyLoss)\n",
        "    test_loss, test_accuracy = test(model_resnet18, test_loader, crossEntropyLoss)\n",
        "    writer.add_scalar('Loss/train', np.mean(train_loss), t)\n",
        "    writer.add_scalar('Loss/test', np.mean(test_loss), t)\n",
        "    writer.add_scalar('Accuracy/train', np.mean(train_accuracy), t)\n",
        "    writer.add_scalar('Accuracy/test', np.mean(test_accuracy), t)"
      ]
    },
    {
      "cell_type": "code",
      "execution_count": null,
      "metadata": {
        "colab": {
          "base_uri": "https://localhost:8080/"
        },
        "id": "MLTfP9_Nncds",
        "outputId": "00643cae-9aca-480f-fcfa-824bf0ca8955"
      },
      "outputs": [
        {
          "output_type": "stream",
          "name": "stdout",
          "text": [
            "-------------------\n",
            "Accuracy: 66.9%, Avg loss: 0.011415\n",
            "-------------------\n",
            "\n"
          ]
        }
      ],
      "source": [
        "\n",
        "test_loss, test_accuracy = test(model_resnet18, test_loader, crossEntropyLoss)"
      ]
    },
    {
      "cell_type": "code",
      "execution_count": null,
      "metadata": {
        "colab": {
          "base_uri": "https://localhost:8080/"
        },
        "id": "x9B_Y_MSncds",
        "outputId": "edfd0751-cef1-4fc1-c68c-d1668c3c07e2"
      },
      "outputs": [
        {
          "output_type": "stream",
          "name": "stdout",
          "text": [
            "              precision    recall  f1-score   support\n",
            "\n",
            "    airplane       0.68      0.74      0.71      1000\n",
            "  automobile       0.80      0.80      0.80      1000\n",
            "        bird       0.58      0.52      0.55      1000\n",
            "         cat       0.47      0.43      0.45      1000\n",
            "        deer       0.57      0.61      0.59      1000\n",
            "         dog       0.57      0.64      0.60      1000\n",
            "        frog       0.74      0.71      0.73      1000\n",
            "       horse       0.72      0.70      0.71      1000\n",
            "        ship       0.79      0.77      0.78      1000\n",
            "       truck       0.77      0.74      0.76      1000\n",
            "\n",
            "    accuracy                           0.67     10000\n",
            "   macro avg       0.67      0.67      0.67     10000\n",
            "weighted avg       0.67      0.67      0.67     10000\n",
            "\n"
          ]
        }
      ],
      "source": [
        "y_pred = []\n",
        "y_true = []\n",
        "with torch.no_grad():\n",
        "    for X, y in test_loader:\n",
        "        X = X.to(device)\n",
        "        y = y.to(device)\n",
        "        y_pred.extend(model_resnet18(X).argmax(1).cpu().numpy())\n",
        "        y_true.extend(y.cpu().numpy())\n",
        "\n",
        "print(classification_report(y_true=y_true, y_pred=y_pred, target_names=training_data_cifar10.classes))"
      ]
    },
    {
      "cell_type": "code",
      "execution_count": null,
      "metadata": {
        "colab": {
          "base_uri": "https://localhost:8080/",
          "height": 621
        },
        "id": "GCnN5Ftzncds",
        "outputId": "a3b49895-326d-4666-93c0-a15a337d1d29"
      },
      "outputs": [
        {
          "output_type": "display_data",
          "data": {
            "text/plain": [
              "<Figure size 720x720 with 2 Axes>"
            ],
            "image/png": "[encoded data removed]"
          },
          "metadata": {
            "needs_background": "light"
          }
        }
      ],
      "source": [
        "cm = confusion_matrix(y_true=y_true, y_pred=y_pred)\n",
        "plt.figure(figsize=(10, 10))\n",
        "sns.heatmap(cm, annot=True, fmt=\"d\")\n",
        "plt.title(\"Confusion matrix\")\n",
        "plt.ylabel('Actual label')\n",
        "plt.xlabel('Predicted label')\n",
        "plt.show()"
      ]
    },
    {
      "cell_type": "code",
      "execution_count": null,
      "metadata": {
        "id": "bf96wPRzncds"
      },
      "outputs": [],
      "source": [
        "torch.save(model_resnet18.state_dict(), \"model_resnet18.pt\")"
      ]
    },
    {
      "cell_type": "markdown",
      "metadata": {
        "id": "gLzWSwePncds"
      },
      "source": [
        "# D"
      ]
    },
    {
      "cell_type": "code",
      "execution_count": null,
      "metadata": {
        "id": "swFeH_ugncds"
      },
      "outputs": [],
      "source": [
        "weights = ResNet50_Weights.IMAGENET1K_V2\n",
        "model_resnet50 = resnet50(weights=weights)\n",
        "model_resnet50.fc = nn.Linear(2048, 10)\n",
        "model_resnet50 = model_resnet50.to(device)"
      ]
    },
    {
      "cell_type": "code",
      "execution_count": null,
      "metadata": {
        "colab": {
          "base_uri": "https://localhost:8080/"
        },
        "id": "tmdLzfZQncds",
        "outputId": "dcf90671-2c89-4dc4-f5eb-a2cbf6f6bbab"
      },
      "outputs": [
        {
          "output_type": "stream",
          "name": "stdout",
          "text": [
            "-------------------------------\n",
            "----------- Epoch 0 -----------\n",
            "-------------------------------\n",
            "Batch 0 loss: 2.301443338394165\n",
            "Batch 100 loss: 0.20564571022987366\n",
            "Batch 200 loss: 0.2188454121351242\n",
            "Batch 300 loss: 0.23416279256343842\n",
            "-------------------\n",
            "Accuracy: 94.7%, Avg loss: 0.001280\n",
            "-------------------\n",
            "\n",
            "-------------------------------\n",
            "----------- Epoch 1 -----------\n",
            "-------------------------------\n",
            "Batch 0 loss: 0.03798776865005493\n",
            "Batch 100 loss: 0.03438444435596466\n",
            "Batch 200 loss: 0.044424671679735184\n",
            "Batch 300 loss: 0.0678052082657814\n",
            "-------------------\n",
            "Accuracy: 95.0%, Avg loss: 0.001231\n",
            "-------------------\n",
            "\n",
            "-------------------------------\n",
            "----------- Epoch 2 -----------\n",
            "-------------------------------\n",
            "Batch 0 loss: 0.02072654291987419\n",
            "Batch 100 loss: 0.08088963478803635\n",
            "Batch 200 loss: 0.019670885056257248\n",
            "Batch 300 loss: 0.015209835954010487\n",
            "-------------------\n",
            "Accuracy: 95.0%, Avg loss: 0.001379\n",
            "-------------------\n",
            "\n",
            "-------------------------------\n",
            "----------- Epoch 3 -----------\n",
            "-------------------------------\n",
            "Batch 0 loss: 0.01238994114100933\n",
            "Batch 100 loss: 0.005667900666594505\n",
            "Batch 200 loss: 0.0023601509165018797\n",
            "Batch 300 loss: 0.010034510865807533\n",
            "-------------------\n",
            "Accuracy: 95.1%, Avg loss: 0.001458\n",
            "-------------------\n",
            "\n",
            "-------------------------------\n",
            "----------- Epoch 4 -----------\n",
            "-------------------------------\n",
            "Batch 0 loss: 0.024824537336826324\n",
            "Batch 100 loss: 0.06056623533368111\n",
            "Batch 200 loss: 0.04180237650871277\n",
            "Batch 300 loss: 0.02365783601999283\n",
            "-------------------\n",
            "Accuracy: 94.9%, Avg loss: 0.001537\n",
            "-------------------\n",
            "\n",
            "-------------------------------\n",
            "----------- Epoch 5 -----------\n",
            "-------------------------------\n",
            "Batch 0 loss: 0.015595437958836555\n",
            "Batch 100 loss: 0.014057835564017296\n",
            "Batch 200 loss: 0.007706445176154375\n",
            "Batch 300 loss: 0.011866923421621323\n",
            "-------------------\n",
            "Accuracy: 95.1%, Avg loss: 0.001506\n",
            "-------------------\n",
            "\n",
            "-------------------------------\n",
            "----------- Epoch 6 -----------\n",
            "-------------------------------\n",
            "Batch 0 loss: 0.007898622192442417\n",
            "Batch 100 loss: 0.0006714516202919185\n",
            "Batch 200 loss: 0.024824172258377075\n",
            "Batch 300 loss: 0.046319860965013504\n",
            "-------------------\n",
            "Accuracy: 95.2%, Avg loss: 0.001387\n",
            "-------------------\n",
            "\n",
            "-------------------------------\n",
            "----------- Epoch 7 -----------\n",
            "-------------------------------\n",
            "Batch 0 loss: 0.001460802392102778\n",
            "Batch 100 loss: 0.0037086622323840857\n",
            "Batch 200 loss: 0.004732777830213308\n",
            "Batch 300 loss: 0.001050555263645947\n",
            "-------------------\n",
            "Accuracy: 95.0%, Avg loss: 0.001664\n",
            "-------------------\n",
            "\n",
            "-------------------------------\n",
            "----------- Epoch 8 -----------\n",
            "-------------------------------\n",
            "Batch 0 loss: 0.01724514178931713\n",
            "Batch 100 loss: 0.006567717995494604\n",
            "Batch 200 loss: 0.034269656985998154\n",
            "Batch 300 loss: 0.005429687909781933\n",
            "-------------------\n",
            "Accuracy: 95.3%, Avg loss: 0.001506\n",
            "-------------------\n",
            "\n",
            "-------------------------------\n",
            "----------- Epoch 9 -----------\n",
            "-------------------------------\n",
            "Batch 0 loss: 0.0015099792508408427\n",
            "Batch 100 loss: 0.02278556488454342\n",
            "Batch 200 loss: 0.014703314751386642\n",
            "Batch 300 loss: 0.05052205175161362\n",
            "-------------------\n",
            "Accuracy: 95.0%, Avg loss: 0.001724\n",
            "-------------------\n",
            "\n"
          ]
        }
      ],
      "source": [
        "from torch.utils.tensorboard import SummaryWriter\n",
        "writer = SummaryWriter(log_dir='ResNet50_Board')\n",
        "\n",
        "optimizer = torch.optim.Adam(model_resnet50.parameters(), lr=0.0001)\n",
        "epochs = 10\n",
        "for t in range(epochs):\n",
        "    print(f\"-------------------------------\")\n",
        "    print(f\"----------- Epoch {t} -----------\")\n",
        "    print(f\"-------------------------------\")\n",
        "    train_loss, train_accuracy = train(model_resnet50, train_loader, optimizer, crossEntropyLoss)\n",
        "    test_loss, test_accuracy = test(model_resnet50, test_loader, crossEntropyLoss)\n",
        "    writer.add_scalar('Loss/train', np.mean(train_loss), t)\n",
        "    writer.add_scalar('Loss/test', np.mean(test_loss), t)\n",
        "    writer.add_scalar('Accuracy/train', np.mean(train_accuracy), t)\n",
        "    writer.add_scalar('Accuracy/test', np.mean(test_accuracy), t)"
      ]
    },
    {
      "cell_type": "code",
      "execution_count": null,
      "metadata": {
        "id": "7-DMIVB_ncds",
        "colab": {
          "base_uri": "https://localhost:8080/"
        },
        "outputId": "38fcfee2-cefd-43af-b8d5-3ca1b1be97d6"
      },
      "outputs": [
        {
          "output_type": "stream",
          "name": "stdout",
          "text": [
            "-------------------\n",
            "Accuracy: 95.1%, Avg loss: 0.001724\n",
            "-------------------\n",
            "\n"
          ]
        }
      ],
      "source": [
        "\n",
        "test_loss, test_accuracy = test(model_resnet50, test_loader, crossEntropyLoss)\n"
      ]
    },
    {
      "cell_type": "code",
      "execution_count": null,
      "metadata": {
        "colab": {
          "base_uri": "https://localhost:8080/"
        },
        "id": "djljvfMfncds",
        "outputId": "921317cc-6140-43e0-8926-ffb081b986e4"
      },
      "outputs": [
        {
          "output_type": "stream",
          "name": "stdout",
          "text": [
            "              precision    recall  f1-score   support\n",
            "\n",
            "    airplane       0.97      0.96      0.97      1000\n",
            "  automobile       0.97      0.96      0.97      1000\n",
            "        bird       0.98      0.94      0.96      1000\n",
            "         cat       0.92      0.86      0.89      1000\n",
            "        deer       0.90      0.98      0.94      1000\n",
            "         dog       0.90      0.92      0.91      1000\n",
            "        frog       0.97      0.96      0.96      1000\n",
            "       horse       0.97      0.97      0.97      1000\n",
            "        ship       0.97      0.97      0.97      1000\n",
            "       truck       0.96      0.96      0.96      1000\n",
            "\n",
            "    accuracy                           0.95     10000\n",
            "   macro avg       0.95      0.95      0.95     10000\n",
            "weighted avg       0.95      0.95      0.95     10000\n",
            "\n"
          ]
        }
      ],
      "source": [
        "y_pred = []\n",
        "y_true = []\n",
        "with torch.no_grad():\n",
        "    for X, y in test_loader:\n",
        "        X = X.to(device)\n",
        "        y = y.to(device)\n",
        "        # to cpu\n",
        "        y_pred.extend(model_resnet50(X).argmax(1).cpu().numpy())\n",
        "        y_true.extend(y.cpu().numpy())\n",
        "print(classification_report(y_true=y_true, y_pred=y_pred, target_names=training_data_cifar10.classes))"
      ]
    },
    {
      "cell_type": "code",
      "execution_count": null,
      "metadata": {
        "colab": {
          "base_uri": "https://localhost:8080/",
          "height": 621
        },
        "id": "LmTIdtwTncds",
        "outputId": "50842178-a3a5-47f1-9bfe-c9ff17418f01"
      },
      "outputs": [
        {
          "output_type": "display_data",
          "data": {
            "text/plain": [
              "<Figure size 720x720 with 2 Axes>"
            ],
            "image/png": "[encoded data removed]"
          },
          "metadata": {
            "needs_background": "light"
          }
        }
      ],
      "source": [
        "cm = confusion_matrix(y_true=y_true, y_pred=y_pred)\n",
        "plt.figure(figsize=(10, 10))\n",
        "sns.heatmap(cm, annot=True, fmt=\"d\")\n",
        "plt.title(\"Confusion matrix\")\n",
        "plt.ylabel('Actual label')\n",
        "plt.xlabel('Predicted label')\n",
        "plt.show()"
      ]
    },
    {
      "cell_type": "code",
      "execution_count": null,
      "metadata": {
        "id": "bWUtKK1Qncds"
      },
      "outputs": [],
      "source": [
        "torch.save(model_resnet50.state_dict(), \"model_resnet50.pt\")"
      ]
    },
    {
      "cell_type": "code",
      "execution_count": null,
      "metadata": {
        "id": "bjnUAyAcncds"
      },
      "outputs": [],
      "source": [
        "weights = ResNet18_Weights.IMAGENET1K_V1\n",
        "model_resnet18_full_tune = resnet18(weights=weights)\n",
        "model_resnet18_full_tune.fc = nn.Linear(512, 10)\n",
        "model_resnet18_full_tune = model_resnet18_full_tune.to(device)\n"
      ]
    },
    {
      "cell_type": "code",
      "execution_count": null,
      "metadata": {
        "id": "eB3u8n91ncds",
        "colab": {
          "base_uri": "https://localhost:8080/"
        },
        "outputId": "ac91491a-2a89-446a-e0eb-17e5f9f4f451"
      },
      "outputs": [
        {
          "output_type": "stream",
          "name": "stdout",
          "text": [
            "-------------------------------\n",
            "----------- Epoch 0 -----------\n",
            "-------------------------------\n",
            "Batch 0 loss: 2.356726884841919\n",
            "Batch 100 loss: 0.4015102982521057\n",
            "Batch 200 loss: 0.2880452573299408\n",
            "Batch 300 loss: 0.2871376872062683\n",
            "-------------------\n",
            "Accuracy: 92.0%, Avg loss: 0.001885\n",
            "-------------------\n",
            "\n",
            "-------------------------------\n",
            "----------- Epoch 1 -----------\n",
            "-------------------------------\n",
            "Batch 0 loss: 0.08161378651857376\n",
            "Batch 100 loss: 0.054225243628025055\n",
            "Batch 200 loss: 0.07862907648086548\n",
            "Batch 300 loss: 0.06597954034805298\n",
            "-------------------\n",
            "Accuracy: 92.3%, Avg loss: 0.001816\n",
            "-------------------\n",
            "\n",
            "-------------------------------\n",
            "----------- Epoch 2 -----------\n",
            "-------------------------------\n",
            "Batch 0 loss: 0.020205935463309288\n",
            "Batch 100 loss: 0.02583598904311657\n",
            "Batch 200 loss: 0.02011934667825699\n",
            "Batch 300 loss: 0.01855284348130226\n",
            "-------------------\n",
            "Accuracy: 93.0%, Avg loss: 0.001917\n",
            "-------------------\n",
            "\n",
            "-------------------------------\n",
            "----------- Epoch 3 -----------\n",
            "-------------------------------\n",
            "Batch 0 loss: 0.01019732840359211\n",
            "Batch 100 loss: 0.012436263263225555\n",
            "Batch 200 loss: 0.00857360940426588\n",
            "Batch 300 loss: 0.003394135506823659\n",
            "-------------------\n",
            "Accuracy: 92.9%, Avg loss: 0.002112\n",
            "-------------------\n",
            "\n",
            "-------------------------------\n",
            "----------- Epoch 4 -----------\n",
            "-------------------------------\n",
            "Batch 0 loss: 0.0027519685681909323\n",
            "Batch 100 loss: 0.0036784217227250338\n",
            "Batch 200 loss: 0.003758944571018219\n",
            "Batch 300 loss: 0.01024637185037136\n",
            "-------------------\n",
            "Accuracy: 92.7%, Avg loss: 0.002423\n",
            "-------------------\n",
            "\n",
            "-------------------------------\n",
            "----------- Epoch 5 -----------\n",
            "-------------------------------\n",
            "Batch 0 loss: 0.0077154310420155525\n",
            "Batch 100 loss: 0.004728626925498247\n",
            "Batch 200 loss: 0.0369957871735096\n",
            "Batch 300 loss: 0.041443489491939545\n",
            "-------------------\n",
            "Accuracy: 91.3%, Avg loss: 0.002735\n",
            "-------------------\n",
            "\n",
            "-------------------------------\n",
            "----------- Epoch 6 -----------\n",
            "-------------------------------\n",
            "Batch 0 loss: 0.004105542320758104\n",
            "Batch 100 loss: 0.030293058604002\n",
            "Batch 200 loss: 0.028442293405532837\n",
            "Batch 300 loss: 0.05117446929216385\n",
            "-------------------\n",
            "Accuracy: 91.8%, Avg loss: 0.002419\n",
            "-------------------\n",
            "\n",
            "-------------------------------\n",
            "----------- Epoch 7 -----------\n",
            "-------------------------------\n",
            "Batch 0 loss: 0.017637964338064194\n",
            "Batch 100 loss: 0.013072601519525051\n",
            "Batch 200 loss: 0.007037772797048092\n",
            "Batch 300 loss: 0.0021418894175440073\n",
            "-------------------\n",
            "Accuracy: 92.7%, Avg loss: 0.002404\n",
            "-------------------\n",
            "\n",
            "-------------------------------\n",
            "----------- Epoch 8 -----------\n",
            "-------------------------------\n",
            "Batch 0 loss: 0.007993822917342186\n",
            "Batch 100 loss: 0.002093618968501687\n",
            "Batch 200 loss: 0.0023309746757149696\n",
            "Batch 300 loss: 0.004058124031871557\n",
            "-------------------\n",
            "Accuracy: 92.6%, Avg loss: 0.002468\n",
            "-------------------\n",
            "\n",
            "-------------------------------\n",
            "----------- Epoch 9 -----------\n",
            "-------------------------------\n",
            "Batch 0 loss: 0.012133416719734669\n",
            "Batch 100 loss: 0.006626407615840435\n",
            "Batch 200 loss: 0.01905946061015129\n",
            "Batch 300 loss: 0.015752825886011124\n",
            "-------------------\n",
            "Accuracy: 92.0%, Avg loss: 0.002742\n",
            "-------------------\n",
            "\n"
          ]
        }
      ],
      "source": [
        "from torch.utils.tensorboard import SummaryWriter\n",
        "writer = SummaryWriter(log_dir='ResNet18_Full_Tune_Board')\n",
        "\n",
        "optimizer = torch.optim.Adam(model_resnet18_full_tune.parameters(), lr=0.0001)\n",
        "epochs = 10\n",
        "\n",
        "for t in range(epochs):\n",
        "    print(f\"-------------------------------\")\n",
        "    print(f\"----------- Epoch {t} -----------\")\n",
        "    print(f\"-------------------------------\")\n",
        "    train_loss, train_accuracy = train(model_resnet18_full_tune, train_loader, optimizer, crossEntropyLoss)\n",
        "    test_loss, test_accuracy = test(model_resnet18_full_tune, test_loader, crossEntropyLoss)\n",
        "    writer.add_scalar('Loss/train', np.mean(train_loss), t)\n",
        "    writer.add_scalar('Loss/test', np.mean(test_loss), t)\n",
        "    writer.add_scalar('Accuracy/train', np.mean(train_accuracy), t)\n",
        "    writer.add_scalar('Accuracy/test', np.mean(test_accuracy), t)"
      ]
    },
    {
      "cell_type": "code",
      "execution_count": null,
      "metadata": {
        "id": "_28teT7Kncds",
        "colab": {
          "base_uri": "https://localhost:8080/"
        },
        "outputId": "27082370-746b-4013-cabb-2eb00f71a3e8"
      },
      "outputs": [
        {
          "output_type": "stream",
          "name": "stdout",
          "text": [
            "-------------------\n",
            "Accuracy: 91.9%, Avg loss: 0.002825\n",
            "-------------------\n",
            "\n"
          ]
        }
      ],
      "source": [
        "test_loss, test_accuracy = test(model_resnet18_full_tune, test_loader, crossEntropyLoss)"
      ]
    },
    {
      "cell_type": "code",
      "execution_count": null,
      "metadata": {
        "id": "xvNA0J7Fncds",
        "colab": {
          "base_uri": "https://localhost:8080/"
        },
        "outputId": "ed963d35-208f-4a01-d248-98ed9144b037"
      },
      "outputs": [
        {
          "output_type": "stream",
          "name": "stdout",
          "text": [
            "              precision    recall  f1-score   support\n",
            "\n",
            "    airplane       0.91      0.95      0.93      1000\n",
            "  automobile       0.95      0.96      0.95      1000\n",
            "        bird       0.94      0.89      0.91      1000\n",
            "         cat       0.88      0.81      0.84      1000\n",
            "        deer       0.89      0.94      0.91      1000\n",
            "         dog       0.85      0.89      0.87      1000\n",
            "        frog       0.93      0.97      0.95      1000\n",
            "       horse       0.96      0.93      0.95      1000\n",
            "        ship       0.96      0.95      0.95      1000\n",
            "       truck       0.96      0.94      0.95      1000\n",
            "\n",
            "    accuracy                           0.92     10000\n",
            "   macro avg       0.92      0.92      0.92     10000\n",
            "weighted avg       0.92      0.92      0.92     10000\n",
            "\n"
          ]
        }
      ],
      "source": [
        "y_pred = []\n",
        "y_true = []\n",
        "with torch.no_grad():\n",
        "    for X, y in test_loader:\n",
        "        X = X.to(device)\n",
        "        y = y.to(device)\n",
        "        y_pred.extend(model_resnet18_full_tune(X).argmax(1).cpu().numpy())\n",
        "        y_true.extend(y.cpu().numpy())\n",
        "print(classification_report(y_true=y_true, y_pred=y_pred, target_names=training_data_cifar10.classes))\n"
      ]
    },
    {
      "cell_type": "code",
      "execution_count": null,
      "metadata": {
        "id": "Q1b0pQkoncds",
        "colab": {
          "base_uri": "https://localhost:8080/",
          "height": 621
        },
        "outputId": "4dc33d30-100b-4e6d-986e-3bdc1dd88614"
      },
      "outputs": [
        {
          "output_type": "display_data",
          "data": {
            "text/plain": [
              "<Figure size 720x720 with 2 Axes>"
            ],
            "image/png": "[encoded data removed]"
          },
          "metadata": {
            "needs_background": "light"
          }
        }
      ],
      "source": [
        "cm = confusion_matrix(y_true=y_true, y_pred=y_pred)\n",
        "plt.figure(figsize=(10, 10))\n",
        "sns.heatmap(cm, annot=True, fmt=\"d\")\n",
        "plt.title(\"Confusion matrix\")\n",
        "plt.ylabel('Actual label')\n",
        "plt.xlabel('Predicted label')\n",
        "plt.show()"
      ]
    },
    {
      "cell_type": "code",
      "execution_count": null,
      "metadata": {
        "id": "444uawV0ncds"
      },
      "outputs": [],
      "source": [
        "torch.save(model_resnet18_full_tune.state_dict(), \"model_resnet18_full_tune.pt\")"
      ]
    },
    {
      "cell_type": "code",
      "source": [
        "!zip -r /content/sample_data.zip /content"
      ],
      "metadata": {
        "colab": {
          "base_uri": "https://localhost:8080/"
        },
        "id": "usMgbHdviFPB",
        "outputId": "8022daef-8a5f-4b40-86fa-bd81bf1de5e4"
      },
      "execution_count": null,
      "outputs": [
        {
          "output_type": "stream",
          "name": "stdout",
          "text": [
            "  adding: content/ (stored 0%)\n",
            "  adding: content/.config/ (stored 0%)\n",
            "  adding: content/.config/.last_survey_prompt.yaml (stored 0%)\n",
            "  adding: content/.config/gce (stored 0%)\n",
            "  adding: content/.config/.last_opt_in_prompt.yaml (stored 0%)\n",
            "  adding: content/.config/active_config (stored 0%)\n",
            "  adding: content/.config/configurations/ (stored 0%)\n",
            "  adding: content/.config/configurations/config_default (deflated 15%)\n",
            "  adding: content/.config/logs/ (stored 0%)\n",
            "  adding: content/.config/logs/2023.01.09/ (stored 0%)\n",
            "  adding: content/.config/logs/2023.01.09/14.34.57.728355.log (deflated 53%)\n",
            "  adding: content/.config/logs/2023.01.09/14.35.41.921526.log (deflated 53%)\n",
            "  adding: content/.config/logs/2023.01.09/14.36.13.391200.log (deflated 54%)\n",
            "  adding: content/.config/logs/2023.01.09/14.36.14.314176.log (deflated 54%)\n",
            "  adding: content/.config/logs/2023.01.09/14.35.26.879372.log (deflated 86%)\n",
            "  adding: content/.config/logs/2023.01.09/14.34.27.508072.log (deflated 91%)\n",
            "  adding: content/.config/.last_update_check.json (deflated 23%)\n",
            "  adding: content/.config/config_sentinel (stored 0%)\n",
            "  adding: content/model_resnet50.pt (deflated 7%)\n",
            "  adding: content/model_resnet18.pt (deflated 7%)\n",
            "  adding: content/ResNet18_Distillation.pt (deflated 7%)\n",
            "  adding: content/ResNet50_Board/ (stored 0%)\n",
            "  adding: content/ResNet50_Board/events.out.tfevents.1673383646.3a6e4aa8ef59.696.3 (deflated 59%)\n",
            "  adding: content/ResNet18_Distillation_Board/ (stored 0%)\n",
            "  adding: content/ResNet18_Distillation_Board/events.out.tfevents.1673381656.3a6e4aa8ef59.696.1 (deflated 59%)\n",
            "  adding: content/ResNet50_LinearTuning_Board/ (stored 0%)\n",
            "  adding: content/ResNet50_LinearTuning_Board/events.out.tfevents.1673379878.3a6e4aa8ef59.696.0 (deflated 59%)\n",
            "  adding: content/.ipynb_checkpoints/ (stored 0%)\n",
            "  adding: content/ResNet18_Board/ (stored 0%)\n",
            "  adding: content/ResNet18_Board/events.out.tfevents.1673383032.3a6e4aa8ef59.696.2 (deflated 59%)\n",
            "  adding: content/ResNet50_LinearTuning.pt (deflated 7%)\n",
            "  adding: content/sample_data/ (stored 0%)\n",
            "  adding: content/sample_data/anscombe.json (deflated 83%)\n",
            "  adding: content/sample_data/README.md (deflated 42%)\n",
            "  adding: content/sample_data/california_housing_test.csv (deflated 76%)\n",
            "  adding: content/sample_data/california_housing_train.csv (deflated 79%)\n",
            "  adding: content/sample_data/mnist_test.csv (deflated 88%)\n",
            "  adding: content/sample_data/mnist_train_small.csv (deflated 88%)\n"
          ]
        }
      ]
    },
    {
      "cell_type": "code",
      "source": [
        "!pwd"
      ],
      "metadata": {
        "colab": {
          "base_uri": "https://localhost:8080/"
        },
        "id": "YFzlCztgu57d",
        "outputId": "eb772a46-c721-499f-9b84-bf0d1b5f699f"
      },
      "execution_count": 40,
      "outputs": [
        {
          "output_type": "stream",
          "name": "stdout",
          "text": [
            "/content\n"
          ]
        }
      ]
    }
  ],
  "metadata": {
    "accelerator": "GPU",
    "colab": {
      "provenance": []
    },
    "gpuClass": "standard",
    "kernelspec": {
      "display_name": "Python 3.9.13 ('base')",
      "language": "python",
      "name": "python3"
    },
    "language_info": {
      "codemirror_mode": {
        "name": "ipython",
        "version": 3
      },
      "file_extension": ".py",
      "mimetype": "text/x-python",
      "name": "python",
      "nbconvert_exporter": "python",
      "pygments_lexer": "ipython3",
      "version": "3.9.13"
    },
    "vscode": {
      "interpreter": {
        "hash": "49437dcc7aa383b38c4a71a2a1f52534b469bb46737650b90e77382e4f16d78e"
      }
    },
    "widgets": {
      "application/vnd.jupyter.widget-state+json": {
        "14beb7fe5c41430c97332c998fefbbe4": {
          "model_module": "@jupyter-widgets/controls",
          "model_name": "HBoxModel",
          "model_module_version": "1.5.0",
          "state": {
            "_dom_classes": [],
            "_model_module": "@jupyter-widgets/controls",
            "_model_module_version": "1.5.0",
            "_model_name": "HBoxModel",
            "_view_count": null,
            "_view_module": "@jupyter-widgets/controls",
            "_view_module_version": "1.5.0",
            "_view_name": "HBoxView",
            "box_style": "",
            "children": [
              "IPY_MODEL_b40d069faf1f44b1b3e7c89fa35a41f5",
              "IPY_MODEL_03375f7437a34098a49ef1c34086c396",
              "IPY_MODEL_2da3f39098f1431bb54fedfb7079d6a8"
            ],
            "layout": "IPY_MODEL_e3e781bef80c4de4a37ab4fe13af9686"
          }
        },
        "b40d069faf1f44b1b3e7c89fa35a41f5": {
          "model_module": "@jupyter-widgets/controls",
          "model_name": "HTMLModel",
          "model_module_version": "1.5.0",
          "state": {
            "_dom_classes": [],
            "_model_module": "@jupyter-widgets/controls",
            "_model_module_version": "1.5.0",
            "_model_name": "HTMLModel",
            "_view_count": null,
            "_view_module": "@jupyter-widgets/controls",
            "_view_module_version": "1.5.0",
            "_view_name": "HTMLView",
            "description": "",
            "description_tooltip": null,
            "layout": "IPY_MODEL_4adec39230004a2997decb1dd6cc9808",
            "placeholder": "​",
            "style": "IPY_MODEL_4857ed8d99a646bab6f8d4887675980a",
            "value": "100%"
          }
        },
        "03375f7437a34098a49ef1c34086c396": {
          "model_module": "@jupyter-widgets/controls",
          "model_name": "FloatProgressModel",
          "model_module_version": "1.5.0",
          "state": {
            "_dom_classes": [],
            "_model_module": "@jupyter-widgets/controls",
            "_model_module_version": "1.5.0",
            "_model_name": "FloatProgressModel",
            "_view_count": null,
            "_view_module": "@jupyter-widgets/controls",
            "_view_module_version": "1.5.0",
            "_view_name": "ProgressView",
            "bar_style": "success",
            "description": "",
            "description_tooltip": null,
            "layout": "IPY_MODEL_66c156ad9674406cbbc44122af5cfe82",
            "max": 170498071,
            "min": 0,
            "orientation": "horizontal",
            "style": "IPY_MODEL_4b103adce63e4d048fd0d7c2ec13030d",
            "value": 170498071
          }
        },
        "2da3f39098f1431bb54fedfb7079d6a8": {
          "model_module": "@jupyter-widgets/controls",
          "model_name": "HTMLModel",
          "model_module_version": "1.5.0",
          "state": {
            "_dom_classes": [],
            "_model_module": "@jupyter-widgets/controls",
            "_model_module_version": "1.5.0",
            "_model_name": "HTMLModel",
            "_view_count": null,
            "_view_module": "@jupyter-widgets/controls",
            "_view_module_version": "1.5.0",
            "_view_name": "HTMLView",
            "description": "",
            "description_tooltip": null,
            "layout": "IPY_MODEL_4cca906b1ff5410492dbd7f96a0d0173",
            "placeholder": "​",
            "style": "IPY_MODEL_843dd0b7c0b14054955ee5201e308dde",
            "value": " 170498071/170498071 [00:06&lt;00:00, 18676498.32it/s]"
          }
        },
        "e3e781bef80c4de4a37ab4fe13af9686": {
          "model_module": "@jupyter-widgets/base",
          "model_name": "LayoutModel",
          "model_module_version": "1.2.0",
          "state": {
            "_model_module": "@jupyter-widgets/base",
            "_model_module_version": "1.2.0",
            "_model_name": "LayoutModel",
            "_view_count": null,
            "_view_module": "@jupyter-widgets/base",
            "_view_module_version": "1.2.0",
            "_view_name": "LayoutView",
            "align_content": null,
            "align_items": null,
            "align_self": null,
            "border": null,
            "bottom": null,
            "display": null,
            "flex": null,
            "flex_flow": null,
            "grid_area": null,
            "grid_auto_columns": null,
            "grid_auto_flow": null,
            "grid_auto_rows": null,
            "grid_column": null,
            "grid_gap": null,
            "grid_row": null,
            "grid_template_areas": null,
            "grid_template_columns": null,
            "grid_template_rows": null,
            "height": null,
            "justify_content": null,
            "justify_items": null,
            "left": null,
            "margin": null,
            "max_height": null,
            "max_width": null,
            "min_height": null,
            "min_width": null,
            "object_fit": null,
            "object_position": null,
            "order": null,
            "overflow": null,
            "overflow_x": null,
            "overflow_y": null,
            "padding": null,
            "right": null,
            "top": null,
            "visibility": null,
            "width": null
          }
        },
        "4adec39230004a2997decb1dd6cc9808": {
          "model_module": "@jupyter-widgets/base",
          "model_name": "LayoutModel",
          "model_module_version": "1.2.0",
          "state": {
            "_model_module": "@jupyter-widgets/base",
            "_model_module_version": "1.2.0",
            "_model_name": "LayoutModel",
            "_view_count": null,
            "_view_module": "@jupyter-widgets/base",
            "_view_module_version": "1.2.0",
            "_view_name": "LayoutView",
            "align_content": null,
            "align_items": null,
            "align_self": null,
            "border": null,
            "bottom": null,
            "display": null,
            "flex": null,
            "flex_flow": null,
            "grid_area": null,
            "grid_auto_columns": null,
            "grid_auto_flow": null,
            "grid_auto_rows": null,
            "grid_column": null,
            "grid_gap": null,
            "grid_row": null,
            "grid_template_areas": null,
            "grid_template_columns": null,
            "grid_template_rows": null,
            "height": null,
            "justify_content": null,
            "justify_items": null,
            "left": null,
            "margin": null,
            "max_height": null,
            "max_width": null,
            "min_height": null,
            "min_width": null,
            "object_fit": null,
            "object_position": null,
            "order": null,
            "overflow": null,
            "overflow_x": null,
            "overflow_y": null,
            "padding": null,
            "right": null,
            "top": null,
            "visibility": null,
            "width": null
          }
        },
        "4857ed8d99a646bab6f8d4887675980a": {
          "model_module": "@jupyter-widgets/controls",
          "model_name": "DescriptionStyleModel",
          "model_module_version": "1.5.0",
          "state": {
            "_model_module": "@jupyter-widgets/controls",
            "_model_module_version": "1.5.0",
            "_model_name": "DescriptionStyleModel",
            "_view_count": null,
            "_view_module": "@jupyter-widgets/base",
            "_view_module_version": "1.2.0",
            "_view_name": "StyleView",
            "description_width": ""
          }
        },
        "66c156ad9674406cbbc44122af5cfe82": {
          "model_module": "@jupyter-widgets/base",
          "model_name": "LayoutModel",
          "model_module_version": "1.2.0",
          "state": {
            "_model_module": "@jupyter-widgets/base",
            "_model_module_version": "1.2.0",
            "_model_name": "LayoutModel",
            "_view_count": null,
            "_view_module": "@jupyter-widgets/base",
            "_view_module_version": "1.2.0",
            "_view_name": "LayoutView",
            "align_content": null,
            "align_items": null,
            "align_self": null,
            "border": null,
            "bottom": null,
            "display": null,
            "flex": null,
            "flex_flow": null,
            "grid_area": null,
            "grid_auto_columns": null,
            "grid_auto_flow": null,
            "grid_auto_rows": null,
            "grid_column": null,
            "grid_gap": null,
            "grid_row": null,
            "grid_template_areas": null,
            "grid_template_columns": null,
            "grid_template_rows": null,
            "height": null,
            "justify_content": null,
            "justify_items": null,
            "left": null,
            "margin": null,
            "max_height": null,
            "max_width": null,
            "min_height": null,
            "min_width": null,
            "object_fit": null,
            "object_position": null,
            "order": null,
            "overflow": null,
            "overflow_x": null,
            "overflow_y": null,
            "padding": null,
            "right": null,
            "top": null,
            "visibility": null,
            "width": null
          }
        },
        "4b103adce63e4d048fd0d7c2ec13030d": {
          "model_module": "@jupyter-widgets/controls",
          "model_name": "ProgressStyleModel",
          "model_module_version": "1.5.0",
          "state": {
            "_model_module": "@jupyter-widgets/controls",
            "_model_module_version": "1.5.0",
            "_model_name": "ProgressStyleModel",
            "_view_count": null,
            "_view_module": "@jupyter-widgets/base",
            "_view_module_version": "1.2.0",
            "_view_name": "StyleView",
            "bar_color": null,
            "description_width": ""
          }
        },
        "4cca906b1ff5410492dbd7f96a0d0173": {
          "model_module": "@jupyter-widgets/base",
          "model_name": "LayoutModel",
          "model_module_version": "1.2.0",
          "state": {
            "_model_module": "@jupyter-widgets/base",
            "_model_module_version": "1.2.0",
            "_model_name": "LayoutModel",
            "_view_count": null,
            "_view_module": "@jupyter-widgets/base",
            "_view_module_version": "1.2.0",
            "_view_name": "LayoutView",
            "align_content": null,
            "align_items": null,
            "align_self": null,
            "border": null,
            "bottom": null,
            "display": null,
            "flex": null,
            "flex_flow": null,
            "grid_area": null,
            "grid_auto_columns": null,
            "grid_auto_flow": null,
            "grid_auto_rows": null,
            "grid_column": null,
            "grid_gap": null,
            "grid_row": null,
            "grid_template_areas": null,
            "grid_template_columns": null,
            "grid_template_rows": null,
            "height": null,
            "justify_content": null,
            "justify_items": null,
            "left": null,
            "margin": null,
            "max_height": null,
            "max_width": null,
            "min_height": null,
            "min_width": null,
            "object_fit": null,
            "object_position": null,
            "order": null,
            "overflow": null,
            "overflow_x": null,
            "overflow_y": null,
            "padding": null,
            "right": null,
            "top": null,
            "visibility": null,
            "width": null
          }
        },
        "843dd0b7c0b14054955ee5201e308dde": {
          "model_module": "@jupyter-widgets/controls",
          "model_name": "DescriptionStyleModel",
          "model_module_version": "1.5.0",
          "state": {
            "_model_module": "@jupyter-widgets/controls",
            "_model_module_version": "1.5.0",
            "_model_name": "DescriptionStyleModel",
            "_view_count": null,
            "_view_module": "@jupyter-widgets/base",
            "_view_module_version": "1.2.0",
            "_view_name": "StyleView",
            "description_width": ""
          }
        },
        "e38cf09cdb7d4395a1eb2bbec89de3bb": {
          "model_module": "@jupyter-widgets/controls",
          "model_name": "HBoxModel",
          "model_module_version": "1.5.0",
          "state": {
            "_dom_classes": [],
            "_model_module": "@jupyter-widgets/controls",
            "_model_module_version": "1.5.0",
            "_model_name": "HBoxModel",
            "_view_count": null,
            "_view_module": "@jupyter-widgets/controls",
            "_view_module_version": "1.5.0",
            "_view_name": "HBoxView",
            "box_style": "",
            "children": [
              "IPY_MODEL_6c5883369f6a42758a3362df0fd95045",
              "IPY_MODEL_ac29c4ec3f3b436bbc857b69f71fb26d",
              "IPY_MODEL_e9848bfc8ceb4f9382cde288886b88c6"
            ],
            "layout": "IPY_MODEL_8710a1d0eeca4a7f897306c21492cd1c"
          }
        },
        "6c5883369f6a42758a3362df0fd95045": {
          "model_module": "@jupyter-widgets/controls",
          "model_name": "HTMLModel",
          "model_module_version": "1.5.0",
          "state": {
            "_dom_classes": [],
            "_model_module": "@jupyter-widgets/controls",
            "_model_module_version": "1.5.0",
            "_model_name": "HTMLModel",
            "_view_count": null,
            "_view_module": "@jupyter-widgets/controls",
            "_view_module_version": "1.5.0",
            "_view_name": "HTMLView",
            "description": "",
            "description_tooltip": null,
            "layout": "IPY_MODEL_8b98c8db90c240d383ab70091a5f6c7a",
            "placeholder": "​",
            "style": "IPY_MODEL_8783e3744f0b427e9dbfbd458b33eaad",
            "value": "100%"
          }
        },
        "ac29c4ec3f3b436bbc857b69f71fb26d": {
          "model_module": "@jupyter-widgets/controls",
          "model_name": "FloatProgressModel",
          "model_module_version": "1.5.0",
          "state": {
            "_dom_classes": [],
            "_model_module": "@jupyter-widgets/controls",
            "_model_module_version": "1.5.0",
            "_model_name": "FloatProgressModel",
            "_view_count": null,
            "_view_module": "@jupyter-widgets/controls",
            "_view_module_version": "1.5.0",
            "_view_name": "ProgressView",
            "bar_style": "success",
            "description": "",
            "description_tooltip": null,
            "layout": "IPY_MODEL_76f54e98b8b843c18001b96dbfc71e09",
            "max": 102540417,
            "min": 0,
            "orientation": "horizontal",
            "style": "IPY_MODEL_08a56217438b4da9bdcb59f795e7f917",
            "value": 102540417
          }
        },
        "e9848bfc8ceb4f9382cde288886b88c6": {
          "model_module": "@jupyter-widgets/controls",
          "model_name": "HTMLModel",
          "model_module_version": "1.5.0",
          "state": {
            "_dom_classes": [],
            "_model_module": "@jupyter-widgets/controls",
            "_model_module_version": "1.5.0",
            "_model_name": "HTMLModel",
            "_view_count": null,
            "_view_module": "@jupyter-widgets/controls",
            "_view_module_version": "1.5.0",
            "_view_name": "HTMLView",
            "description": "",
            "description_tooltip": null,
            "layout": "IPY_MODEL_eac36c7cdb5248e9b7a8449ae04618e9",
            "placeholder": "​",
            "style": "IPY_MODEL_21e88b7566734e3aad9f6517547a8185",
            "value": " 97.8M/97.8M [00:01&lt;00:00, 77.9MB/s]"
          }
        },
        "8710a1d0eeca4a7f897306c21492cd1c": {
          "model_module": "@jupyter-widgets/base",
          "model_name": "LayoutModel",
          "model_module_version": "1.2.0",
          "state": {
            "_model_module": "@jupyter-widgets/base",
            "_model_module_version": "1.2.0",
            "_model_name": "LayoutModel",
            "_view_count": null,
            "_view_module": "@jupyter-widgets/base",
            "_view_module_version": "1.2.0",
            "_view_name": "LayoutView",
            "align_content": null,
            "align_items": null,
            "align_self": null,
            "border": null,
            "bottom": null,
            "display": null,
            "flex": null,
            "flex_flow": null,
            "grid_area": null,
            "grid_auto_columns": null,
            "grid_auto_flow": null,
            "grid_auto_rows": null,
            "grid_column": null,
            "grid_gap": null,
            "grid_row": null,
            "grid_template_areas": null,
            "grid_template_columns": null,
            "grid_template_rows": null,
            "height": null,
            "justify_content": null,
            "justify_items": null,
            "left": null,
            "margin": null,
            "max_height": null,
            "max_width": null,
            "min_height": null,
            "min_width": null,
            "object_fit": null,
            "object_position": null,
            "order": null,
            "overflow": null,
            "overflow_x": null,
            "overflow_y": null,
            "padding": null,
            "right": null,
            "top": null,
            "visibility": null,
            "width": null
          }
        },
        "8b98c8db90c240d383ab70091a5f6c7a": {
          "model_module": "@jupyter-widgets/base",
          "model_name": "LayoutModel",
          "model_module_version": "1.2.0",
          "state": {
            "_model_module": "@jupyter-widgets/base",
            "_model_module_version": "1.2.0",
            "_model_name": "LayoutModel",
            "_view_count": null,
            "_view_module": "@jupyter-widgets/base",
            "_view_module_version": "1.2.0",
            "_view_name": "LayoutView",
            "align_content": null,
            "align_items": null,
            "align_self": null,
            "border": null,
            "bottom": null,
            "display": null,
            "flex": null,
            "flex_flow": null,
            "grid_area": null,
            "grid_auto_columns": null,
            "grid_auto_flow": null,
            "grid_auto_rows": null,
            "grid_column": null,
            "grid_gap": null,
            "grid_row": null,
            "grid_template_areas": null,
            "grid_template_columns": null,
            "grid_template_rows": null,
            "height": null,
            "justify_content": null,
            "justify_items": null,
            "left": null,
            "margin": null,
            "max_height": null,
            "max_width": null,
            "min_height": null,
            "min_width": null,
            "object_fit": null,
            "object_position": null,
            "order": null,
            "overflow": null,
            "overflow_x": null,
            "overflow_y": null,
            "padding": null,
            "right": null,
            "top": null,
            "visibility": null,
            "width": null
          }
        },
        "8783e3744f0b427e9dbfbd458b33eaad": {
          "model_module": "@jupyter-widgets/controls",
          "model_name": "DescriptionStyleModel",
          "model_module_version": "1.5.0",
          "state": {
            "_model_module": "@jupyter-widgets/controls",
            "_model_module_version": "1.5.0",
            "_model_name": "DescriptionStyleModel",
            "_view_count": null,
            "_view_module": "@jupyter-widgets/base",
            "_view_module_version": "1.2.0",
            "_view_name": "StyleView",
            "description_width": ""
          }
        },
        "76f54e98b8b843c18001b96dbfc71e09": {
          "model_module": "@jupyter-widgets/base",
          "model_name": "LayoutModel",
          "model_module_version": "1.2.0",
          "state": {
            "_model_module": "@jupyter-widgets/base",
            "_model_module_version": "1.2.0",
            "_model_name": "LayoutModel",
            "_view_count": null,
            "_view_module": "@jupyter-widgets/base",
            "_view_module_version": "1.2.0",
            "_view_name": "LayoutView",
            "align_content": null,
            "align_items": null,
            "align_self": null,
            "border": null,
            "bottom": null,
            "display": null,
            "flex": null,
            "flex_flow": null,
            "grid_area": null,
            "grid_auto_columns": null,
            "grid_auto_flow": null,
            "grid_auto_rows": null,
            "grid_column": null,
            "grid_gap": null,
            "grid_row": null,
            "grid_template_areas": null,
            "grid_template_columns": null,
            "grid_template_rows": null,
            "height": null,
            "justify_content": null,
            "justify_items": null,
            "left": null,
            "margin": null,
            "max_height": null,
            "max_width": null,
            "min_height": null,
            "min_width": null,
            "object_fit": null,
            "object_position": null,
            "order": null,
            "overflow": null,
            "overflow_x": null,
            "overflow_y": null,
            "padding": null,
            "right": null,
            "top": null,
            "visibility": null,
            "width": null
          }
        },
        "08a56217438b4da9bdcb59f795e7f917": {
          "model_module": "@jupyter-widgets/controls",
          "model_name": "ProgressStyleModel",
          "model_module_version": "1.5.0",
          "state": {
            "_model_module": "@jupyter-widgets/controls",
            "_model_module_version": "1.5.0",
            "_model_name": "ProgressStyleModel",
            "_view_count": null,
            "_view_module": "@jupyter-widgets/base",
            "_view_module_version": "1.2.0",
            "_view_name": "StyleView",
            "bar_color": null,
            "description_width": ""
          }
        },
        "eac36c7cdb5248e9b7a8449ae04618e9": {
          "model_module": "@jupyter-widgets/base",
          "model_name": "LayoutModel",
          "model_module_version": "1.2.0",
          "state": {
            "_model_module": "@jupyter-widgets/base",
            "_model_module_version": "1.2.0",
            "_model_name": "LayoutModel",
            "_view_count": null,
            "_view_module": "@jupyter-widgets/base",
            "_view_module_version": "1.2.0",
            "_view_name": "LayoutView",
            "align_content": null,
            "align_items": null,
            "align_self": null,
            "border": null,
            "bottom": null,
            "display": null,
            "flex": null,
            "flex_flow": null,
            "grid_area": null,
            "grid_auto_columns": null,
            "grid_auto_flow": null,
            "grid_auto_rows": null,
            "grid_column": null,
            "grid_gap": null,
            "grid_row": null,
            "grid_template_areas": null,
            "grid_template_columns": null,
            "grid_template_rows": null,
            "height": null,
            "justify_content": null,
            "justify_items": null,
            "left": null,
            "margin": null,
            "max_height": null,
            "max_width": null,
            "min_height": null,
            "min_width": null,
            "object_fit": null,
            "object_position": null,
            "order": null,
            "overflow": null,
            "overflow_x": null,
            "overflow_y": null,
            "padding": null,
            "right": null,
            "top": null,
            "visibility": null,
            "width": null
          }
        },
        "21e88b7566734e3aad9f6517547a8185": {
          "model_module": "@jupyter-widgets/controls",
          "model_name": "DescriptionStyleModel",
          "model_module_version": "1.5.0",
          "state": {
            "_model_module": "@jupyter-widgets/controls",
            "_model_module_version": "1.5.0",
            "_model_name": "DescriptionStyleModel",
            "_view_count": null,
            "_view_module": "@jupyter-widgets/base",
            "_view_module_version": "1.2.0",
            "_view_name": "StyleView",
            "description_width": ""
          }
        }
      }
    }
  },
  "nbformat": 4,
  "nbformat_minor": 0
}